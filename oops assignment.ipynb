{
 "cells": [
  {
   "cell_type": "markdown",
   "id": "fb4692b5-d82f-44d8-af70-256bf1b21d39",
   "metadata": {},
   "source": [
    "#1  What are the five key concepts of Object-Oriented Programming (OOP)?"
   ]
  },
  {
   "cell_type": "code",
   "execution_count": 3,
   "id": "49d68bcf-88d7-4b73-81f2-73465ca40b48",
   "metadata": {},
   "outputs": [],
   "source": [
    "#The five key concepts of Object-Oriented Programming (OOP) are:\n",
    "#Encapsulation\n",
    "#Abstraction\n",
    "#Inheritence\n",
    "#Polymorphism\n",
    "#Classes and Objects"
   ]
  },
  {
   "cell_type": "markdown",
   "id": "6d9c6dc7-26b0-42f1-92ce-98c11b265976",
   "metadata": {},
   "source": [
    "#2  Write a Python class for a `Car` with attributes for `make`, `model`, and `year`. Include a method to display \n",
    "the car's information\r\n",
    "\r"
   ]
  },
  {
   "cell_type": "code",
   "execution_count": 6,
   "id": "b5317ac1-aea2-47fa-8aaa-3f1e67340cbe",
   "metadata": {},
   "outputs": [
    {
     "name": "stdout",
     "output_type": "stream",
     "text": [
      "Car Info: 2020 Toyota Camry\n"
     ]
    }
   ],
   "source": [
    "class Car:\n",
    "    def __init__(self, make, model, year):\n",
    "        self.make = make\n",
    "        self.model = model\n",
    "        self.year = year\n",
    "\n",
    "    def display_info(self):\n",
    "        print(f\"Car Info: {self.year} {self.make} {self.model}\")\n",
    "\n",
    "# Example usage:\n",
    "car1 = Car(\"Toyota\", \"Camry\", 2020)\n",
    "car1.display_info()\n"
   ]
  },
  {
   "cell_type": "markdown",
   "id": "2f971706-07f9-44cc-95ee-859f9f788045",
   "metadata": {},
   "source": [
    "#3  Explain the difference between instance methods and class methods. Provide an example of each."
   ]
  },
  {
   "cell_type": "code",
   "execution_count": 9,
   "id": "9fcb866a-02f8-4346-a26a-12d3c7503f8f",
   "metadata": {},
   "outputs": [],
   "source": [
    "#Instance Methods:\n",
    "\n",
    "#These methods are associated with an instance (object) of the class.\n",
    "#They can access and modify instance attributes and use the self parameter to refer to the object itself.\n",
    "#They require an instance of the class to be called."
   ]
  },
  {
   "cell_type": "code",
   "execution_count": 11,
   "id": "01ffe509-83d1-46e4-9639-bafdc3260278",
   "metadata": {},
   "outputs": [],
   "source": [
    "#Class Methods:\n",
    "\n",
    "#Class methods are associated with the class itself rather than an instance of the class.\n",
    "#They are defined using the @classmethod decorator.\n",
    "#Instead of self, they take cls as the first parameter, which refers to the class itself, allowing the method to access class variables or call other class methods.\n",
    "#They can be called on the class itself or an instance of the class."
   ]
  },
  {
   "cell_type": "code",
   "execution_count": 15,
   "id": "fad01b40-8ee9-4dfc-bc2a-957358772206",
   "metadata": {},
   "outputs": [],
   "source": [
    "class Car:\n",
    "    # Class attribute\n",
    "    car_count = 0\n",
    "\n",
    "    def __init__(self, make, model, year):\n",
    "        self.make = make\n",
    "        self.model = model\n",
    "        self.year = year\n",
    "        Car.car_count += 1\n",
    "\n",
    "    # Instance method\n",
    "    def display_info(self):\n",
    "        print(f\"Car Info: {self.year} {self.make} {self.model}\")\n",
    "\n",
    "    # Class method\n",
    "    @classmethod\n",
    "    def total_cars(cls):\n",
    "        print(f\"Total cars created: {cls.car_count}\")\n",
    "\n",
    "# Create instances\n",
    "car1 = Car(\"Toyota\", \"Camry\", 2020)\n",
    "car2 = Car(\"Honda\", \"Accord\", 2019)  \n",
    "    "
   ]
  },
  {
   "cell_type": "code",
   "execution_count": 17,
   "id": "83b3839f-442e-41f7-970e-792af5af5da4",
   "metadata": {},
   "outputs": [
    {
     "name": "stdout",
     "output_type": "stream",
     "text": [
      "Car Info: 2020 Toyota Camry\n"
     ]
    }
   ],
   "source": [
    "# Calling an instance method\n",
    "car1.display_info() "
   ]
  },
  {
   "cell_type": "code",
   "execution_count": 19,
   "id": "20f860a8-0eda-4c4c-99a1-eb2c6f2ab2f1",
   "metadata": {},
   "outputs": [
    {
     "name": "stdout",
     "output_type": "stream",
     "text": [
      "Total cars created: 2\n",
      "Total cars created: 2\n"
     ]
    }
   ],
   "source": [
    "# Calling a class method (can be called on the class or an instance)\n",
    "Car.total_cars()     \n",
    "car2.total_cars() "
   ]
  },
  {
   "cell_type": "markdown",
   "id": "8a693504-c586-4133-9430-e3133d08b35b",
   "metadata": {},
   "source": [
    "#4 How does Python implement method overloading? Give an example."
   ]
  },
  {
   "cell_type": "code",
   "execution_count": 22,
   "id": "a67cfa46-6298-481b-88ea-45a5c40e276a",
   "metadata": {},
   "outputs": [],
   "source": [
    "#Python provides flexibility in implementing functionality similar to method overloading using techniques like:\n",
    "\n",
    "#Default Arguments: Using default values for parameters to handle different numbers of arguments.\n",
    "#Variable-Length Arguments: Using *args and **kwargs to accept a variable number of arguments.\n",
    "#Type Checking: Using conditional logic inside a single method to vary behavior based on the types of the arguments."
   ]
  },
  {
   "cell_type": "code",
   "execution_count": 24,
   "id": "63c92927-976b-4a9d-a0a0-df4a9ed0f7c3",
   "metadata": {},
   "outputs": [],
   "source": [
    "#Example of Simulating Method Overloading in Python:\n",
    "class MathOperations:\n",
    "    def add(self, a, b=0, c=0):\n",
    "        return a + b + c\n",
    "\n",
    "# Example usage:\n",
    "math_op = MathOperations() \n"
   ]
  },
  {
   "cell_type": "code",
   "execution_count": 26,
   "id": "4ef64881-6c11-4380-b74f-9e0e8dc35e3d",
   "metadata": {},
   "outputs": [
    {
     "name": "stdout",
     "output_type": "stream",
     "text": [
      "15\n"
     ]
    }
   ],
   "source": [
    "# Calling with two arguments\n",
    "print(math_op.add(5, 10)) "
   ]
  },
  {
   "cell_type": "code",
   "execution_count": 28,
   "id": "9b4011af-1afa-4de2-8c0d-785adb5c5f0a",
   "metadata": {},
   "outputs": [
    {
     "name": "stdout",
     "output_type": "stream",
     "text": [
      "35\n"
     ]
    }
   ],
   "source": [
    "# Calling with three arguments\n",
    "print(math_op.add(5, 10, 20))"
   ]
  },
  {
   "cell_type": "code",
   "execution_count": 30,
   "id": "e0c9c731-3693-4c35-bc39-daf932da6b36",
   "metadata": {},
   "outputs": [
    {
     "name": "stdout",
     "output_type": "stream",
     "text": [
      "5\n"
     ]
    }
   ],
   "source": [
    "# Calling with one argument (b and c use default values of 0)\n",
    "print(math_op.add(5))  "
   ]
  },
  {
   "cell_type": "code",
   "execution_count": 32,
   "id": "888f3121-4877-4826-a82d-7aa3f5d29851",
   "metadata": {},
   "outputs": [],
   "source": [
    "#Variable-Length Arguments Example:\n",
    "class MathOperations:\n",
    "    def add(self, *args):\n",
    "        return sum(args)\n",
    "\n",
    "# Example usage:\n",
    "math_op = MathOperations()\n"
   ]
  },
  {
   "cell_type": "code",
   "execution_count": 34,
   "id": "670ce457-082f-4777-9be7-077688ec6e31",
   "metadata": {},
   "outputs": [
    {
     "name": "stdout",
     "output_type": "stream",
     "text": [
      "15\n"
     ]
    }
   ],
   "source": [
    "# Calling with two arguments\n",
    "print(math_op.add(5, 10)) "
   ]
  },
  {
   "cell_type": "code",
   "execution_count": 36,
   "id": "87210c89-2d7b-4883-8dbd-8107df593fd7",
   "metadata": {},
   "outputs": [
    {
     "name": "stdout",
     "output_type": "stream",
     "text": [
      "35\n"
     ]
    }
   ],
   "source": [
    "# Calling with three arguments\n",
    "print(math_op.add(5, 10, 20))"
   ]
  },
  {
   "cell_type": "code",
   "execution_count": 38,
   "id": "c57afb26-a85a-450c-a9ae-775e65900659",
   "metadata": {},
   "outputs": [
    {
     "name": "stdout",
     "output_type": "stream",
     "text": [
      "60\n"
     ]
    }
   ],
   "source": [
    "# Calling with four arguments\n",
    "print(math_op.add(5, 10, 20, 25)) "
   ]
  },
  {
   "cell_type": "markdown",
   "id": "500bdbd5-5b36-4095-bc01-afb8b40d160f",
   "metadata": {},
   "source": [
    "#5  What are the three types of access modifiers in Python? How are they denoted?"
   ]
  },
  {
   "cell_type": "code",
   "execution_count": 41,
   "id": "6accb73d-3f85-4dbe-804c-61fffce1c25f",
   "metadata": {},
   "outputs": [],
   "source": [
    "#1. Public\n",
    "#Denoted by: No special notation (normal variable or method name)\n",
    "\n",
    "#Description: Public members are accessible from anywhere, both inside and outside the class. By default, all attributes and methods in Python are public."
   ]
  },
  {
   "cell_type": "code",
   "execution_count": 43,
   "id": "23ef1adf-2775-43fb-9b66-563fbf720773",
   "metadata": {},
   "outputs": [
    {
     "name": "stdout",
     "output_type": "stream",
     "text": [
      "Toyota\n",
      "Car: Toyota Camry\n"
     ]
    }
   ],
   "source": [
    "class Car:\n",
    "    def __init__(self, make, model):\n",
    "        self.make = make  # Public attribute\n",
    "        self.model = model  # Public attribute\n",
    "\n",
    "    def display_info(self):  # Public method\n",
    "        print(f\"Car: {self.make} {self.model}\")\n",
    "\n",
    "car = Car(\"Toyota\", \"Camry\")\n",
    "print(car.make)  # Accessing public attribute\n",
    "car.display_info()  # Accessing public method\n"
   ]
  },
  {
   "cell_type": "code",
   "execution_count": 45,
   "id": "626fb0fd-dccd-4a59-bed3-030ba007dbcd",
   "metadata": {},
   "outputs": [],
   "source": [
    "#Protected\n",
    "#Denoted by: A single underscore _ before the attribute or method name (e.g., _attribute or _method)\n",
    "\n",
    "#Description: Protected members are intended to be accessed within the class and its subclasses. Although they can be accessed from outside the class, this is discouraged and considered a convention rather than a strict restriction."
   ]
  },
  {
   "cell_type": "code",
   "execution_count": 47,
   "id": "4fa8e6dc-0b93-4391-9df3-9252067a363a",
   "metadata": {},
   "outputs": [
    {
     "name": "stdout",
     "output_type": "stream",
     "text": [
      "SportsCar: Ferrari 488\n"
     ]
    }
   ],
   "source": [
    "class Car:\n",
    "    def __init__(self, make, model):\n",
    "        self._make = make  # Protected attribute\n",
    "        self._model = model  # Protected attribute\n",
    "\n",
    "    def _display_info(self):  # Protected method\n",
    "        print(f\"Car: {self._make} {_self.model}\")\n",
    "\n",
    "class SportsCar(Car):\n",
    "    def show_info(self):\n",
    "        print(f\"SportsCar: {self._make} {self._model}\")\n",
    "\n",
    "car = SportsCar(\"Ferrari\", \"488\")\n",
    "car.show_info()  # Accessing protected attribute from subclass\n"
   ]
  },
  {
   "cell_type": "code",
   "execution_count": 49,
   "id": "33a6ef6d-d65e-4a87-a19c-cf55510c4bd3",
   "metadata": {},
   "outputs": [],
   "source": [
    "# Private\n",
    "#Denoted by: A double underscore __ before the attribute or method name (e.g., __attribute or __method)\n",
    "\n",
    "#Description: Private members are only accessible within the class where they are defined. Python uses name mangling to make private attributes/methods less accessible from outside the class, though they can still be accessed by using the mangled name."
   ]
  },
  {
   "cell_type": "code",
   "execution_count": 51,
   "id": "d845a933-ba64-4b15-b487-893ab2a796a8",
   "metadata": {},
   "outputs": [
    {
     "name": "stdout",
     "output_type": "stream",
     "text": [
      "Car: BMW M3\n"
     ]
    }
   ],
   "source": [
    "class Car:\n",
    "    def __init__(self, make, model):\n",
    "        self.__make = make  # Private attribute\n",
    "        self.__model = model  # Private attribute\n",
    "\n",
    "    def __display_info(self):  # Private method\n",
    "        print(f\"Car: {self.__make} {self.__model}\")\n",
    "\n",
    "    def show_info(self):\n",
    "        self.__display_info()  # Private method accessed inside the class\n",
    "\n",
    "car = Car(\"BMW\", \"M3\")\n",
    "car.show_info()  # Accessing private method through public method\n",
    "\n",
    "# The following would raise an AttributeError\n",
    "# print(car.__make)\n",
    "# car.__display_info()\n"
   ]
  },
  {
   "cell_type": "markdown",
   "id": "56d93fe1-5f90-4fe0-855c-661bf416192c",
   "metadata": {},
   "source": [
    "#6  Describe the five types of inheritance in Python. Provide a simple example of multiple inheritance."
   ]
  },
  {
   "cell_type": "code",
   "execution_count": 54,
   "id": "e03cddf0-8a4b-4b82-913b-86630cfb17e0",
   "metadata": {},
   "outputs": [],
   "source": [
    "#Single Inheritance\n",
    "\n",
    "#A child class inherits from a single parent class."
   ]
  },
  {
   "cell_type": "code",
   "execution_count": 56,
   "id": "146bdf5c-9566-45c5-ab5b-8e809fb59294",
   "metadata": {},
   "outputs": [],
   "source": [
    "#Multiple Inheritance\n",
    "\n",
    "#A child class inherits from more than one parent class."
   ]
  },
  {
   "cell_type": "code",
   "execution_count": 58,
   "id": "58c7ea36-3c3c-421c-876b-7b3c4874ff6a",
   "metadata": {},
   "outputs": [],
   "source": [
    "#Multilevel Inheritance\n",
    "\n",
    "#A class inherits from another class, which in turn inherits from another class, forming a chain."
   ]
  },
  {
   "cell_type": "code",
   "execution_count": 60,
   "id": "3c37bd1a-16e9-42e4-9fba-43f8a3f3c15a",
   "metadata": {},
   "outputs": [],
   "source": [
    "#Hierarchical Inheritance\n",
    "\n",
    "#Multiple child classes inherit from a single parent class."
   ]
  },
  {
   "cell_type": "code",
   "execution_count": 62,
   "id": "f8154604-beb8-4a4d-bb39-d53f4d41d64a",
   "metadata": {},
   "outputs": [],
   "source": [
    "#Hybrid Inheritance\n",
    "\n",
    "#A combination of more than one type of inheritance. It can involve multiple, multilevel, or hierarchical inheritance in various forms."
   ]
  },
  {
   "cell_type": "code",
   "execution_count": 64,
   "id": "e9f4612f-cd4c-4eaa-9626-5cf0a12f5793",
   "metadata": {},
   "outputs": [
    {
     "name": "stdout",
     "output_type": "stream",
     "text": [
      "Engine started\n",
      "Wheels are rotating\n",
      "Car is driving\n"
     ]
    }
   ],
   "source": [
    "class Engine:\n",
    "    def start(self):\n",
    "        print(\"Engine started\")\n",
    "\n",
    "class Wheels:\n",
    "    def rotate(self):\n",
    "        print(\"Wheels are rotating\")\n",
    "\n",
    "class Car(Engine, Wheels):\n",
    "    def drive(self):\n",
    "        print(\"Car is driving\")\n",
    "\n",
    "# Example usage\n",
    "my_car = Car()\n",
    "my_car.start()   \n",
    "my_car.rotate()  \n",
    "my_car.drive()   "
   ]
  },
  {
   "cell_type": "markdown",
   "id": "a2a44235-25dc-427e-8f33-f604e94c9189",
   "metadata": {},
   "source": [
    "#7 What is the Method Resolution Order (MRO) in Python? How can you retrieve it programmatically?"
   ]
  },
  {
   "cell_type": "code",
   "execution_count": 67,
   "id": "8b8fbde9-afd4-4bdd-a099-0e4ff81e67b9",
   "metadata": {},
   "outputs": [],
   "source": [
    "#MRO is the sequence in which Python looks for a method or attribute in a hierarchy of classes when there is inheritance involved. If a method is not found in the current class, Python looks at the parent classes in the MRO order."
   ]
  },
  {
   "cell_type": "code",
   "execution_count": 69,
   "id": "a732d435-ceea-46f5-9aea-758f86ac5a52",
   "metadata": {},
   "outputs": [],
   "source": [
    "#You can retrieve the MRO in two ways:\n",
    "\n",
    "#Using __mro__ attribute: This special attribute contains a tuple of classes in the method resolution order.\n",
    "#Using the mro() method: This method, available on a class, returns a list of the classes in the MRO."
   ]
  },
  {
   "cell_type": "code",
   "execution_count": 75,
   "id": "603abae3-aab5-4316-909e-bbe88f1e51ce",
   "metadata": {},
   "outputs": [],
   "source": [
    "class A:\n",
    "    def show(self):\n",
    "        print(\"A class\")\n",
    "\n",
    "class B(A):\n",
    "    def show(self):\n",
    "        print(\"B class\")\n",
    "\n",
    "class C(A):\n",
    "    def show(self):\n",
    "        print(\"C class\")\n",
    "\n",
    "class D(B, C):\n",
    "    pass\n",
    "\n"
   ]
  },
  {
   "cell_type": "code",
   "execution_count": 77,
   "id": "977e0fc2-89c8-49f3-baa9-3662ada153fb",
   "metadata": {},
   "outputs": [
    {
     "name": "stdout",
     "output_type": "stream",
     "text": [
      "(<class '__main__.D'>, <class '__main__.B'>, <class '__main__.C'>, <class '__main__.A'>, <class 'object'>)\n"
     ]
    }
   ],
   "source": [
    "# Checking the MRO using __mro__ attribute\n",
    "print(D.__mro__)"
   ]
  },
  {
   "cell_type": "code",
   "execution_count": 79,
   "id": "17dda720-3e84-47c2-b733-34efb10f5a80",
   "metadata": {},
   "outputs": [
    {
     "name": "stdout",
     "output_type": "stream",
     "text": [
      "[<class '__main__.D'>, <class '__main__.B'>, <class '__main__.C'>, <class '__main__.A'>, <class 'object'>]\n"
     ]
    }
   ],
   "source": [
    "# Checking the MRO using mro() method\n",
    "print(D.mro())"
   ]
  },
  {
   "cell_type": "code",
   "execution_count": 81,
   "id": "f1a1cc75-b9b6-4cb1-a46c-9c2b83911e02",
   "metadata": {},
   "outputs": [
    {
     "name": "stdout",
     "output_type": "stream",
     "text": [
      "B class\n"
     ]
    }
   ],
   "source": [
    "# Creating an object of D and calling show() method\n",
    "d = D()\n",
    "d.show() "
   ]
  },
  {
   "cell_type": "markdown",
   "id": "dea6a04f-f7c4-4ee1-9228-3db437185a6e",
   "metadata": {},
   "source": [
    "#8 Create an abstract base class `Shape` with an abstract method `area()`. Then create two subclasses\r\n",
    "`Circle` and `Rectangle` that implement the `area()` method."
   ]
  },
  {
   "cell_type": "code",
   "execution_count": 84,
   "id": "34226caa-2591-430f-a53e-643dc5211a58",
   "metadata": {},
   "outputs": [
    {
     "name": "stdout",
     "output_type": "stream",
     "text": [
      "Area of the circle: 78.53981633974483\n",
      "Area of the rectangle: 24\n"
     ]
    }
   ],
   "source": [
    "from abc import ABC, abstractmethod\n",
    "import math\n",
    "\n",
    "# Abstract Base Class\n",
    "class Shape(ABC):\n",
    "    @abstractmethod\n",
    "    def area(self):\n",
    "        pass\n",
    "\n",
    "# Subclass: Circle\n",
    "class Circle(Shape):\n",
    "    def __init__(self, radius):\n",
    "        self.radius = radius\n",
    "    \n",
    "    def area(self):\n",
    "        return math.pi * self.radius ** 2\n",
    "\n",
    "# Subclass: Rectangle\n",
    "class Rectangle(Shape):\n",
    "    def __init__(self, width, height):\n",
    "        self.width = width\n",
    "        self.height = height\n",
    "    \n",
    "    def area(self):\n",
    "        return self.width * self.height\n",
    "\n",
    "# Example usage\n",
    "circle = Circle(5)\n",
    "rectangle = Rectangle(4, 6)\n",
    "\n",
    "print(f\"Area of the circle: {circle.area()}\")  \n",
    "print(f\"Area of the rectangle: {rectangle.area()}\")  "
   ]
  },
  {
   "cell_type": "markdown",
   "id": "bea0f7a5-9090-4eed-952a-84c6350e399d",
   "metadata": {},
   "source": [
    "#9  Demonstrate polymorphism by creating a function that can work with different shape objects to calculate\r\n",
    "and print their areas."
   ]
  },
  {
   "cell_type": "code",
   "execution_count": 87,
   "id": "5f069317-c789-40bd-b4b9-954a451e3ea4",
   "metadata": {},
   "outputs": [
    {
     "name": "stdout",
     "output_type": "stream",
     "text": [
      "The area of the shape is: 78.53981633974483\n",
      "The area of the shape is: 24\n"
     ]
    }
   ],
   "source": [
    "from abc import ABC, abstractmethod\n",
    "import math\n",
    "\n",
    "# Abstract Base Class\n",
    "class Shape(ABC):\n",
    "    @abstractmethod\n",
    "    def area(self):\n",
    "        pass\n",
    "\n",
    "# Subclass: Circle\n",
    "class Circle(Shape):\n",
    "    def __init__(self, radius):\n",
    "        self.radius = radius\n",
    "    \n",
    "    def area(self):\n",
    "        return math.pi * self.radius ** 2\n",
    "\n",
    "# Subclass: Rectangle\n",
    "class Rectangle(Shape):\n",
    "    def __init__(self, width, height):\n",
    "        self.width = width\n",
    "        self.height = height\n",
    "    \n",
    "    def area(self):\n",
    "        return self.width * self.height\n",
    "\n",
    "# Function demonstrating polymorphism\n",
    "def print_area(shape: Shape):\n",
    "    print(f\"The area of the shape is: {shape.area()}\")\n",
    "\n",
    "# Example usage\n",
    "circle = Circle(5)\n",
    "rectangle = Rectangle(4, 6)\n",
    "\n",
    "# Using the polymorphic function\n",
    "print_area(circle)     \n",
    "print_area(rectangle)  \n"
   ]
  },
  {
   "cell_type": "markdown",
   "id": "feafb653-7f78-4f73-bedb-d71df48eefd4",
   "metadata": {},
   "source": [
    "#10  Implement encapsulation in a `BankAccount` class with private attributes for `balance` and\r\n",
    "`account_number`. Include methods for deposit, withdrawal, and balance inquiry."
   ]
  },
  {
   "cell_type": "code",
   "execution_count": 90,
   "id": "9656a13b-d1d9-4d8d-96fb-6ee5297ca3f8",
   "metadata": {},
   "outputs": [],
   "source": [
    "class BankAccount:\n",
    "    def __init__(self, account_number, initial_balance=0):\n",
    "        # Private attributes\n",
    "        self.__account_number = account_number\n",
    "        self.__balance = initial_balance\n",
    "\n",
    "    # Public method to deposit money\n",
    "    def deposit(self, amount):\n",
    "        if amount > 0:\n",
    "            self.__balance += amount\n",
    "            print(f\"Deposited: {amount}\")\n",
    "        else:\n",
    "            print(\"Deposit amount must be positive.\")\n",
    "\n",
    "    # Public method to withdraw money\n",
    "    def withdraw(self, amount):\n",
    "        if 0 < amount <= self.__balance:\n",
    "            self.__balance -= amount\n",
    "            print(f\"Withdrew: {amount}\")\n",
    "        else:\n",
    "            print(\"Insufficient balance or invalid amount.\")\n",
    "\n",
    "    # Public method to check the balance\n",
    "    def get_balance(self):\n",
    "        return self.__balance\n",
    "\n",
    "    # Public method to get the account number (read-only access)\n",
    "    def get_account_number(self):\n",
    "        return self.__account_number\n",
    "\n",
    "# Example usage:\n",
    "account = BankAccount(\"123456789\", 1000)"
   ]
  },
  {
   "cell_type": "code",
   "execution_count": 92,
   "id": "a39ea101-1b36-4e01-ba97-38796a2238e2",
   "metadata": {},
   "outputs": [
    {
     "name": "stdout",
     "output_type": "stream",
     "text": [
      "Deposited: 500\n"
     ]
    }
   ],
   "source": [
    "# Depositing money\n",
    "account.deposit(500) "
   ]
  },
  {
   "cell_type": "code",
   "execution_count": 94,
   "id": "386cd47e-82a9-46a4-b0ff-3825818c1680",
   "metadata": {},
   "outputs": [
    {
     "name": "stdout",
     "output_type": "stream",
     "text": [
      "Withdrew: 300\n"
     ]
    }
   ],
   "source": [
    "# Withdrawing money\n",
    "account.withdraw(300)"
   ]
  },
  {
   "cell_type": "code",
   "execution_count": 96,
   "id": "6b472858-0325-4dad-b173-8a3399afef13",
   "metadata": {},
   "outputs": [
    {
     "name": "stdout",
     "output_type": "stream",
     "text": [
      "Balance: 1200\n"
     ]
    }
   ],
   "source": [
    "# Checking balance\n",
    "print(f\"Balance: {account.get_balance()}\") "
   ]
  },
  {
   "cell_type": "code",
   "execution_count": 98,
   "id": "b35b42d4-67aa-4d03-8176-cdd429c2ff6f",
   "metadata": {},
   "outputs": [],
   "source": [
    "# Trying to access private attributes (this will raise an AttributeError)\n",
    "# print(account.__balance)"
   ]
  },
  {
   "cell_type": "code",
   "execution_count": 100,
   "id": "8b416f08-39cc-4637-abf4-1e023da29f9a",
   "metadata": {},
   "outputs": [
    {
     "name": "stdout",
     "output_type": "stream",
     "text": [
      "Account Number: 123456789\n"
     ]
    }
   ],
   "source": [
    "# Correct way to access the account number \n",
    "print(f\"Account Number: {account.get_account_number()}\")"
   ]
  },
  {
   "cell_type": "markdown",
   "id": "a219d40d-ee83-408f-a4c8-ac6cfd718097",
   "metadata": {},
   "source": [
    "#11 Write a class that overrides the `__str__` and `__add__` magic methods. What will these methods allow\r\n",
    "you to do?"
   ]
  },
  {
   "cell_type": "code",
   "execution_count": 103,
   "id": "310c1716-d327-4fc9-b137-8d1e33a28f82",
   "metadata": {},
   "outputs": [],
   "source": [
    "class Vector:\n",
    "    def __init__(self, x, y):\n",
    "        self.x = x\n",
    "        self.y = y\n",
    "\n",
    "    # Overriding __str__ method\n",
    "    def __str__(self):\n",
    "        return f\"Vector({self.x}, {self.y})\"\n",
    "\n",
    "    # Overriding __add__ method\n",
    "    def __add__(self, other):\n",
    "        if isinstance(other, Vector):\n",
    "            return Vector(self.x + other.x, self.y + other.y)\n",
    "        return NotImplemented\n",
    "\n",
    "# Example usage\n",
    "v1 = Vector(2, 3)\n",
    "v2 = Vector(5, 7)\n"
   ]
  },
  {
   "cell_type": "code",
   "execution_count": 105,
   "id": "bd1b1859-643f-4034-a52d-67b9f9c53a97",
   "metadata": {},
   "outputs": [
    {
     "name": "stdout",
     "output_type": "stream",
     "text": [
      "Vector(2, 3)\n",
      "Vector(5, 7)\n"
     ]
    }
   ],
   "source": [
    "# Printing the vector objects (calls __str__)\n",
    "print(v1)  \n",
    "print(v2)"
   ]
  },
  {
   "cell_type": "code",
   "execution_count": 107,
   "id": "fbc0e3d8-6ded-46d3-aacb-a201b61cf939",
   "metadata": {},
   "outputs": [
    {
     "name": "stdout",
     "output_type": "stream",
     "text": [
      "Vector(7, 10)\n"
     ]
    }
   ],
   "source": [
    "# Adding vector objects (calls __add__)\n",
    "v3 = v1 + v2\n",
    "print(v3) "
   ]
  },
  {
   "cell_type": "code",
   "execution_count": 109,
   "id": "47725da9-3e8b-4116-9d8a-6057c0a3af24",
   "metadata": {},
   "outputs": [],
   "source": [
    "#Usage of These Methods:\n",
    "#__str__:\n",
    "\n",
    "#This method enhances the readability of your class by providing a meaningful string representation. It allows you to easily inspect the object when printed or converted to a string.\n",
    "\n",
    "#__add__:\n",
    "\n",
    "#This method allows you to define custom addition behavior for instances of your class. In this case, you can add two Vector objects using the + operator, which makes the syntax intuitive and easy to use."
   ]
  },
  {
   "cell_type": "markdown",
   "id": "e519c2d3-b033-4ff1-8759-63e11db1baed",
   "metadata": {},
   "source": [
    "#12  Create a decorator that measures and prints the execution time of a function."
   ]
  },
  {
   "cell_type": "code",
   "execution_count": 112,
   "id": "2638071a-3b00-4a95-97c6-a7a562636694",
   "metadata": {},
   "outputs": [
    {
     "name": "stdout",
     "output_type": "stream",
     "text": [
      "Execution time of 'example_function': 0.073829 seconds\n",
      "Result: 499999500000\n"
     ]
    }
   ],
   "source": [
    "import time\n",
    "\n",
    "# Decorator to measure execution time\n",
    "def time_it(func):\n",
    "    def wrapper(*args, **kwargs):\n",
    "        start_time = time.time()  # Record the start time\n",
    "        result = func(*args, **kwargs)  # Call the original function\n",
    "        end_time = time.time()  # Record the end time\n",
    "        execution_time = end_time - start_time  # Calculate the execution time\n",
    "        print(f\"Execution time of '{func.__name__}': {execution_time:.6f} seconds\")\n",
    "        return result  # Return the result of the original function\n",
    "    return wrapper\n",
    "\n",
    "# Example usage of the decorator\n",
    "@time_it\n",
    "def example_function(n):\n",
    "    total = 0\n",
    "    for i in range(n):\n",
    "        total += i\n",
    "    return total\n",
    "\n",
    "# Call the decorated function\n",
    "result = example_function(1000000)\n",
    "print(f\"Result: {result}\")\n"
   ]
  },
  {
   "cell_type": "markdown",
   "id": "b06d1933-a1b5-41db-9014-9f86cbd85466",
   "metadata": {},
   "source": [
    "#13  Explain the concept of the Diamond Problem in multiple inheritance. How does Python resolve it?"
   ]
  },
  {
   "cell_type": "code",
   "execution_count": 115,
   "id": "92955d8a-57c5-4201-a5ec-caf7316f35e0",
   "metadata": {},
   "outputs": [],
   "source": [
    "#The Diamond Problem is a common issue in object-oriented programming languages that support multiple inheritance. It occurs when a class inherits from two or more classes that have a common base class. This situation creates ambiguity about which path to follow when accessing methods or attributes of the base class."
   ]
  },
  {
   "cell_type": "code",
   "execution_count": 122,
   "id": "0725ef45-7a63-4955-bd01-eb6a95c4ea7f",
   "metadata": {},
   "outputs": [
    {
     "name": "stdout",
     "output_type": "stream",
     "text": [
      "Hello from B\n",
      "(<class '__main__.D'>, <class '__main__.B'>, <class '__main__.C'>, <class '__main__.A'>, <class 'object'>)\n"
     ]
    }
   ],
   "source": [
    "#Here’s an example to illustrate how Python handles the Diamond Problem:\n",
    "class A:\n",
    "    def greet(self):\n",
    "        print(\"Hello from A\")\n",
    "\n",
    "class B(A):\n",
    "    def greet(self):\n",
    "        print(\"Hello from B\")\n",
    "\n",
    "class C(A):\n",
    "    def greet(self):\n",
    "        print(\"Hello from C\")\n",
    "\n",
    "class D(B, C):\n",
    "    pass\n",
    "\n",
    "# Creating an instance of D\n",
    "d = D()\n",
    "\n",
    "# Calling the greet method\n",
    "d.greet()  \n",
    "\n",
    "# Checking the MRO of class D\n",
    "print(D.__mro__)  "
   ]
  },
  {
   "cell_type": "markdown",
   "id": "9fd6407e-ef64-4b67-84af-b659c1aa23ce",
   "metadata": {},
   "source": [
    "#14 . Write a class method that keeps track of the number of instances created from a class."
   ]
  },
  {
   "cell_type": "code",
   "execution_count": 125,
   "id": "26c44786-c344-4e3b-986c-55ad761f04dc",
   "metadata": {},
   "outputs": [
    {
     "name": "stdout",
     "output_type": "stream",
     "text": [
      "Number of instances created: 3\n"
     ]
    }
   ],
   "source": [
    "class InstanceCounter:\n",
    "    # Class variable to count instances\n",
    "    instance_count = 0\n",
    "\n",
    "    def __init__(self):\n",
    "        # Increment the instance count each time a new instance is created\n",
    "        InstanceCounter.instance_count += 1\n",
    "\n",
    "    @classmethod\n",
    "    def get_instance_count(cls):\n",
    "        # Class method to return the number of instances created\n",
    "        return cls.instance_count\n",
    "\n",
    "# Example usage\n",
    "obj1 = InstanceCounter()\n",
    "obj2 = InstanceCounter()\n",
    "obj3 = InstanceCounter()\n",
    "\n",
    "# Getting the count of instances created\n",
    "print(f\"Number of instances created: {InstanceCounter.get_instance_count()}\") "
   ]
  },
  {
   "cell_type": "markdown",
   "id": "029554d8-9a2a-4b3f-83f6-c77b57f08940",
   "metadata": {},
   "source": [
    "#15 Implement a static method in a class that checks if a given year is a leap year."
   ]
  },
  {
   "cell_type": "code",
   "execution_count": 128,
   "id": "59e551a3-177f-4115-b952-1f57e2616d03",
   "metadata": {},
   "outputs": [],
   "source": [
    "#You can implement a static method in a Python class to check if a given year is a leap year. A year is considered a leap year if it meets the following criteria:\n",
    "\n",
    "#It is divisible by 4.\n",
    "#It is not divisible by 100 unless it is also divisible by 400."
   ]
  },
  {
   "cell_type": "code",
   "execution_count": 130,
   "id": "e7730549-2e6f-4701-a931-53a494dba73a",
   "metadata": {},
   "outputs": [
    {
     "name": "stdout",
     "output_type": "stream",
     "text": [
      "2024 is a leap year.\n",
      "1900 is not a leap year.\n"
     ]
    }
   ],
   "source": [
    "class YearUtils:\n",
    "    @staticmethod\n",
    "    def is_leap_year(year):\n",
    "        \"\"\"Check if a given year is a leap year.\"\"\"\n",
    "        if (year % 4 == 0 and year % 100 != 0) or (year % 400 == 0):\n",
    "            return True\n",
    "        return False\n",
    "\n",
    "# Example usage\n",
    "year_to_check = 2024\n",
    "if YearUtils.is_leap_year(year_to_check):\n",
    "    print(f\"{year_to_check} is a leap year.\")\n",
    "else:\n",
    "    print(f\"{year_to_check} is not a leap year.\")\n",
    "\n",
    "# Checking another year\n",
    "year_to_check = 1900\n",
    "if YearUtils.is_leap_year(year_to_check):\n",
    "    print(f\"{year_to_check} is a leap year.\")\n",
    "else:\n",
    "    print(f\"{year_to_check} is not a leap year.\")\n"
   ]
  }
 ],
 "metadata": {
  "kernelspec": {
   "display_name": "Python 3 (ipykernel)",
   "language": "python",
   "name": "python3"
  },
  "language_info": {
   "codemirror_mode": {
    "name": "ipython",
    "version": 3
   },
   "file_extension": ".py",
   "mimetype": "text/x-python",
   "name": "python",
   "nbconvert_exporter": "python",
   "pygments_lexer": "ipython3",
   "version": "3.12.4"
  }
 },
 "nbformat": 4,
 "nbformat_minor": 5
}
